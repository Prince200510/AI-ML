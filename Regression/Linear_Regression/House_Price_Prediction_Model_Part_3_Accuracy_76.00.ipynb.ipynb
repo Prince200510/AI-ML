{
 "cells": [
  {
   "cell_type": "code",
   "execution_count": 32,
   "id": "28495d2c-e436-439a-91ce-749dbee63fac",
   "metadata": {},
   "outputs": [
    {
     "name": "stdout",
     "output_type": "stream",
     "text": [
      "      price  area  bedrooms  bathrooms  stories mainroad guestroom basement  \\\n",
      "0  13300000  7420         4          2        3      yes        no       no   \n",
      "1  12250000  8960         4          4        4      yes        no       no   \n",
      "2  12250000  9960         3          2        2      yes        no      yes   \n",
      "3  12215000  7500         4          2        2      yes        no      yes   \n",
      "4  11410000  7420         4          1        2      yes       yes      yes   \n",
      "\n",
      "  hotwaterheating airconditioning  parking prefarea furnishingstatus  \n",
      "0              no             yes        2      yes        furnished  \n",
      "1              no             yes        3       no        furnished  \n",
      "2              no              no        2      yes   semi-furnished  \n",
      "3              no             yes        3      yes        furnished  \n",
      "4              no             yes        2       no        furnished  \n"
     ]
    }
   ],
   "source": [
    "import pandas as pd\n",
    "df = pd.read_csv('Dataset/Housing.csv')\n",
    "print(df.head())"
   ]
  },
  {
   "cell_type": "code",
   "execution_count": 33,
   "id": "c847e7c0-4ca6-4e3f-8c2c-503a96e85200",
   "metadata": {},
   "outputs": [
    {
     "name": "stdout",
     "output_type": "stream",
     "text": [
      "price               0\n",
      "area                0\n",
      "bedrooms            0\n",
      "bathrooms           0\n",
      "stories             0\n",
      "mainroad            0\n",
      "guestroom           0\n",
      "basement            0\n",
      "hotwaterheating     0\n",
      "airconditioning     0\n",
      "parking             0\n",
      "prefarea            0\n",
      "furnishingstatus    0\n",
      "dtype: int64\n",
      "      price  area  bedrooms  bathrooms  stories mainroad guestroom basement  \\\n",
      "0  13300000  7420         4          2        3      yes        no       no   \n",
      "1  12250000  8960         4          4        4      yes        no       no   \n",
      "2  12250000  9960         3          2        2      yes        no      yes   \n",
      "3  12215000  7500         4          2        2      yes        no      yes   \n",
      "4  11410000  7420         4          1        2      yes       yes      yes   \n",
      "\n",
      "  hotwaterheating airconditioning  parking prefarea furnishingstatus  \n",
      "0              no             yes        2      yes        furnished  \n",
      "1              no             yes        3       no        furnished  \n",
      "2              no              no        2      yes   semi-furnished  \n",
      "3              no             yes        3      yes        furnished  \n",
      "4              no             yes        2       no        furnished  \n"
     ]
    }
   ],
   "source": [
    "print(df.isnull().sum())\n",
    "df.fillna(df.select_dtypes(include = 'number').mean(), inplace = True)\n",
    "print(df.head())"
   ]
  },
  {
   "cell_type": "code",
   "execution_count": 96,
   "id": "b9257b75-be0f-424e-8aee-df4b42656d7d",
   "metadata": {},
   "outputs": [
    {
     "name": "stdout",
     "output_type": "stream",
     "text": [
      "        price  area  bedrooms  bathrooms  stories  mainroad  guestroom  \\\n",
      "15  16.023785  6000         4          1        2         0          0   \n",
      "16  16.023785  6600         4          2        2         0          0   \n",
      "17  16.008281  8500         3          2        4         0          0   \n",
      "18  16.000438  4600         3          2        2         0          0   \n",
      "19  15.996493  6420         3          2        2         0          0   \n",
      "\n",
      "    basement  hotwaterheating  airconditioning  ...  area_per_room  \\\n",
      "15         0                0                0  ...    1500.000000   \n",
      "16         0                0                0  ...    1650.000000   \n",
      "17         0                0                0  ...    2833.333333   \n",
      "18         0                0                0  ...    1533.333333   \n",
      "19         0                0                0  ...    2140.000000   \n",
      "\n",
      "    bathroom_ratio  area_per_bathroom  bedroom_bathroom_sum  \\\n",
      "15        0.250000             6000.0                     5   \n",
      "16        0.500000             3300.0                     6   \n",
      "17        0.666667             4250.0                     5   \n",
      "18        0.666667             2300.0                     5   \n",
      "19        0.666667             3210.0                     5   \n",
      "\n",
      "    area_bedroom_interaction  log_area  area_squared  bedroom_squared  \\\n",
      "15                     24000  8.699681      36000000               16   \n",
      "16                     26400  8.794976      43560000               16   \n",
      "17                     25500  9.047939      72250000                9   \n",
      "18                     13800  8.434029      21160000                9   \n",
      "19                     19260  8.767329      41216400                9   \n",
      "\n",
      "    total_amenities  bathroom_density  \n",
      "15                2          0.000167  \n",
      "16                5          0.000303  \n",
      "17                2          0.000235  \n",
      "18                3          0.000435  \n",
      "19                3          0.000312  \n",
      "\n",
      "[5 rows x 24 columns]\n"
     ]
    }
   ],
   "source": [
    "def yes_or_no(value):\n",
    "    return 1 if value == \"yes\" else 0\n",
    "df['mainroad'] = df['mainroad'].apply(yes_or_no)\n",
    "df['guestroom'] = df['guestroom'].apply(yes_or_no)\n",
    "df['basement'] = df['basement'].apply(yes_or_no)\n",
    "df['hotwaterheating'] = df['hotwaterheating'].apply(yes_or_no)\n",
    "df['airconditioning'] = df['airconditioning'].apply(yes_or_no)\n",
    "df['prefarea'] = df['prefarea'].apply(yes_or_no)\n",
    "print(df.head())"
   ]
  },
  {
   "cell_type": "code",
   "execution_count": 97,
   "id": "0bc98e38-116e-4ddf-8f79-926c37d93c68",
   "metadata": {},
   "outputs": [],
   "source": [
    "from sklearn.preprocessing import LabelEncoder\n",
    "lb = LabelEncoder()\n",
    "df['furnishingstatus'] = lb.fit_transform(df['furnishingstatus'])"
   ]
  },
  {
   "cell_type": "code",
   "execution_count": 98,
   "id": "307aea59-081c-4240-b1a1-3ef5873f2e35",
   "metadata": {},
   "outputs": [
    {
     "name": "stdout",
     "output_type": "stream",
     "text": [
      "Dataset after removing outliers: (530, 24)\n"
     ]
    }
   ],
   "source": [
    "Q1 = df['price'].quantile(0.25) \n",
    "Q3 = df['price'].quantile(0.75)  \n",
    "IQR = Q3 - Q1\n",
    "lower_bound = Q1 - 1.5 * IQR\n",
    "upper_bound = Q3 + 1.5 * IQR\n",
    "df = df[(df['price'] >= lower_bound) & (df['price'] <= upper_bound)]\n",
    "print(f\"Dataset after removing outliers: {df.shape}\")"
   ]
  },
  {
   "cell_type": "code",
   "execution_count": 99,
   "id": "73aa0779-5d10-40b0-b601-5519c33337f2",
   "metadata": {},
   "outputs": [],
   "source": [
    "import numpy as np\n",
    "df['price'] = np.log(df['price'])"
   ]
  },
  {
   "cell_type": "code",
   "execution_count": 109,
   "id": "38358570-38e0-4bcf-bff4-4d300bdd6cbc",
   "metadata": {},
   "outputs": [],
   "source": [
    "# x = df.drop(columns=['price'])\n",
    "# y = df['price']\n",
    "# df['area_per_room'] = df['area'] / df['bedrooms']  \n",
    "# df['bathroom_ratio'] = df['bathrooms'] / df['bedrooms']  \n",
    "# df['area_per_bathroom'] = df['area'] / df['bathrooms']  \n",
    "# df['bedroom_bathroom_sum'] = df['bedrooms'] + df['bathrooms']\n",
    "# x = df.drop(columns=['price'])\n",
    "# x = df.drop(columns=['price'])\n",
    "# y = df['price']\n",
    "# df['area_per_room'] = df['area'] / df['bedrooms']  \n",
    "# df['bathroom_ratio'] = df['bathrooms'] / df['bedrooms']  \n",
    "# df['area_per_bathroom'] = df['area'] / df['bathrooms']  \n",
    "# df['bedroom_bathroom_sum'] = df['bedrooms'] + df['bathrooms']\n",
    "# x = df.drop(columns=['price'])\n",
    "import numpy as np\n",
    "if 'age' in df.columns:\n",
    "    df['bathroom_age_interaction'] = df['bathrooms'] * df['age']\n",
    "    df['age_squared'] = df['age'] ** 2\n",
    "df['area_per_room'] = df['area'] / df['bedrooms']\n",
    "df['bathroom_ratio'] = df['bathrooms'] / df['bedrooms']\n",
    "df['bedroom_bathroom_sum'] = df['bedrooms'] + df['bathrooms']\n",
    "df['area_bedroom_interaction'] = df['area'] * df['bedrooms']\n",
    "\n",
    "df['log_area'] = np.log(df['area'] + 1)\n",
    "df['area_squared'] = df['area'] ** 2\n",
    "df['bedroom_squared'] = df['bedrooms'] ** 2\n",
    "\n",
    "df['total_amenities'] = (\n",
    "    df['mainroad'] + df['guestroom'] + df['basement'] +\n",
    "    df['hotwaterheating'] + df['airconditioning'] + df['prefarea']\n",
    ")\n",
    "df['bathroom_density'] = df['bathrooms'] / df['area']\n",
    "\n",
    "x = df.drop(columns=['price', 'area_per_bathroom'], errors='ignore')\n",
    "y = df['price']"
   ]
  },
  {
   "cell_type": "code",
   "execution_count": 110,
   "id": "6513b49a-264d-41d8-a7dd-bebe751485dd",
   "metadata": {},
   "outputs": [
    {
     "name": "stdout",
     "output_type": "stream",
     "text": [
      "[[ 0.45260931  1.44774876 -0.56125391 ...  1.46166855  0.\n",
      "  -0.81830866]\n",
      " [ 0.74197643  1.44774876  1.59428648 ...  1.46166855  0.\n",
      "   0.13708391]\n",
      " [ 1.65830564  0.07755797  1.59428648 ... -0.04215572  0.\n",
      "  -0.33749018]\n",
      " ...\n",
      " [-0.69521361 -1.29263282 -0.56125391 ... -1.11631591  0.\n",
      "  -0.05059296]\n",
      " [-1.03763137  0.07755797 -0.56125391 ... -0.04215572  0.\n",
      "   0.42162236]\n",
      " [-0.58428954  0.07755797 -0.56125391 ... -0.04215572  0.\n",
      "  -0.16621532]]\n"
     ]
    }
   ],
   "source": [
    "from sklearn.preprocessing import StandardScaler\n",
    "scaler = StandardScaler()\n",
    "x_scaled = scaler.fit_transform(x)\n",
    "print(x_scaled)"
   ]
  },
  {
   "cell_type": "code",
   "execution_count": 111,
   "id": "53af562a-9b38-4b3a-b498-d3e4f6052233",
   "metadata": {},
   "outputs": [],
   "source": [
    "from sklearn.model_selection import train_test_split\n",
    "x_train, x_test, y_train, y_test = train_test_split(x_scaled, y, test_size = 0.2, random_state = 42)"
   ]
  },
  {
   "cell_type": "code",
   "execution_count": 112,
   "id": "472e4ad1-0dd8-4899-abce-5b89d8069c30",
   "metadata": {},
   "outputs": [],
   "source": [
    "from sklearn.linear_model import LinearRegression\n",
    "model = LinearRegression()\n",
    "model.fit(x_train, y_train)\n",
    "y_predict = model.predict(x_test)"
   ]
  },
  {
   "cell_type": "code",
   "execution_count": 104,
   "id": "938a16a4-74e0-436f-a2ba-14d577420677",
   "metadata": {},
   "outputs": [
    {
     "name": "stdout",
     "output_type": "stream",
     "text": [
      "Mean Squared Error: 0.00016169722646736486\n",
      "Mean Absolute Error: 0.008806580752862449\n",
      "R2 Score: 0.7785292769822333\n"
     ]
    }
   ],
   "source": [
    "from sklearn.metrics import mean_squared_error, mean_absolute_error, r2_score\n",
    "mse = mean_squared_error(y_test, y_predict)\n",
    "mae = mean_absolute_error(y_test, y_predict)\n",
    "r2 = r2_score(y_test, y_predict)\n",
    "print('Mean Squared Error:', mse)\n",
    "print('Mean Absolute Error:', mae)\n",
    "print('R2 Score:', r2)"
   ]
  },
  {
   "cell_type": "code",
   "execution_count": 105,
   "id": "cd406448-b9de-44a8-96c6-a39334150a6e",
   "metadata": {},
   "outputs": [
    {
     "data": {
      "image/png": "[encoded data removed]",
      "text/plain": [
       "<Figure size 640x480 with 1 Axes>"
      ]
     },
     "metadata": {},
     "output_type": "display_data"
    }
   ],
   "source": [
    "import matplotlib.pyplot as plt\n",
    "plt.scatter(y_test, y_predict, color='blue', alpha=0.5)\n",
    "plt.xlabel('Actual Prices')\n",
    "plt.ylabel('Predicted Prices')\n",
    "plt.title('Actual vs Predicted')\n",
    "plt.show()"
   ]
  },
  {
   "cell_type": "code",
   "execution_count": 106,
   "id": "12fe0f2b-5078-47ac-b6ec-af6d612dd0ea",
   "metadata": {},
   "outputs": [
    {
     "name": "stdout",
     "output_type": "stream",
     "text": [
      "\n",
      "Actual vs Predicted Prices:\n",
      "Actual: 2.742496610608028, Predicted: 2.752528570383924\n",
      "Actual: 2.7112497982039043, Predicted: 2.735653572205451\n",
      "Actual: 2.771120900931745, Predicted: 2.757697423851454\n",
      "Actual: 2.7176859324804736, Predicted: 2.723056220822151\n",
      "Actual: 2.7200843139449433, Predicted: 2.727697866392835\n",
      "Actual: 2.7508580747058122, Predicted: 2.749255588456096\n",
      "Actual: 2.7303530116849455, Predicted: 2.726332371127801\n",
      "Actual: 2.6905492461699225, Predicted: 2.6852863709658523\n",
      "Actual: 2.6708388599759294, Predicted: 2.683708433034801\n",
      "Actual: 2.7479500308654554, Predicted: 2.7480013240690297\n"
     ]
    }
   ],
   "source": [
    "print(\"\\nActual vs Predicted Prices:\")\n",
    "for actual, predicted in zip(y_test.values[:10], y_predict[:10]):\n",
    "    print(f\"Actual: {actual}, Predicted: {predicted}\")"
   ]
  },
  {
   "cell_type": "code",
   "execution_count": 107,
   "id": "1fc6c840-073d-4286-b88d-d54c86fb57ea",
   "metadata": {},
   "outputs": [
    {
     "name": "stdout",
     "output_type": "stream",
     "text": [
      "Cross-Validated R2 Score: -464.38%\n"
     ]
    }
   ],
   "source": [
    "from sklearn.model_selection import cross_val_score\n",
    "cv_scores = cross_val_score(model, x_scaled, y, cv=5, scoring='r2')\n",
    "print(f\"Cross-Validated R2 Score: {cv_scores.mean() * 100:.2f}%\")"
   ]
  },
  {
   "cell_type": "code",
   "execution_count": 108,
   "id": "36953b3e-3add-4b96-a2c5-7d83abfe8796",
   "metadata": {},
   "outputs": [
    {
     "name": "stdout",
     "output_type": "stream",
     "text": [
      "Model Accuracy (R2 Score): 77.85%\n"
     ]
    }
   ],
   "source": [
    "print(f\"Model Accuracy (R2 Score): {r2 * 100:.2f}%\")"
   ]
  },
  {
   "cell_type": "code",
   "execution_count": 75,
   "id": "a023aff1-57f9-40c8-b794-a5515900f072",
   "metadata": {},
   "outputs": [
    {
     "data": {
      "image/png": "[encoded data removed]",
      "text/plain": [
       "<Figure size 640x480 with 1 Axes>"
      ]
     },
     "metadata": {},
     "output_type": "display_data"
    }
   ],
   "source": [
    "import seaborn as sns\n",
    "sns.boxplot(df['price'])\n",
    "plt.show()"
   ]
  },
  {
   "cell_type": "code",
   "execution_count": 61,
   "id": "156b89b7-2480-4b39-a4ff-d811f7fc281b",
   "metadata": {},
   "outputs": [
    {
     "name": "stdout",
     "output_type": "stream",
     "text": [
      "15     9100000.0\n",
      "16     9100000.0\n",
      "17     8960000.0\n",
      "18     8890000.0\n",
      "19     8855000.0\n",
      "         ...    \n",
      "540    1820000.0\n",
      "541    1767150.0\n",
      "542    1750000.0\n",
      "543    1750000.0\n",
      "544    1750000.0\n",
      "Name: price, Length: 530, dtype: float64\n"
     ]
    }
   ],
   "source": [
    "original_price = np.exp(df['price'])\n",
    "print(original_price)  "
   ]
  },
  {
   "cell_type": "code",
   "execution_count": null,
   "id": "078b30f9-9fc8-4061-a99b-e4e4bc98d406",
   "metadata": {},
   "outputs": [],
   "source": []
  }
 ],
 "metadata": {
  "kernelspec": {
   "display_name": "Python 3 (ipykernel)",
   "language": "python",
   "name": "python3"
  },
  "language_info": {
   "codemirror_mode": {
    "name": "ipython",
    "version": 3
   },
   "file_extension": ".py",
   "mimetype": "text/x-python",
   "name": "python",
   "nbconvert_exporter": "python",
   "pygments_lexer": "ipython3",
   "version": "3.12.7"
  }
 },
 "nbformat": 4,
 "nbformat_minor": 5
}
