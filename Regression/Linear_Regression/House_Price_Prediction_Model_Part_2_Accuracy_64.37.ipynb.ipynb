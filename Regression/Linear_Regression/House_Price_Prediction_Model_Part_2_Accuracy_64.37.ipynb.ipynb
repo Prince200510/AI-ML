{
 "cells": [
  {
   "cell_type": "code",
   "execution_count": 32,
   "id": "28495d2c-e436-439a-91ce-749dbee63fac",
   "metadata": {},
   "outputs": [
    {
     "name": "stdout",
     "output_type": "stream",
     "text": [
      "      price  area  bedrooms  bathrooms  stories mainroad guestroom basement  \\\n",
      "0  13300000  7420         4          2        3      yes        no       no   \n",
      "1  12250000  8960         4          4        4      yes        no       no   \n",
      "2  12250000  9960         3          2        2      yes        no      yes   \n",
      "3  12215000  7500         4          2        2      yes        no      yes   \n",
      "4  11410000  7420         4          1        2      yes       yes      yes   \n",
      "\n",
      "  hotwaterheating airconditioning  parking prefarea furnishingstatus  \n",
      "0              no             yes        2      yes        furnished  \n",
      "1              no             yes        3       no        furnished  \n",
      "2              no              no        2      yes   semi-furnished  \n",
      "3              no             yes        3      yes        furnished  \n",
      "4              no             yes        2       no        furnished  \n"
     ]
    }
   ],
   "source": [
    "import pandas as pd\n",
    "df = pd.read_csv('Dataset/Housing.csv')\n",
    "print(df.head())"
   ]
  },
  {
   "cell_type": "code",
   "execution_count": 33,
   "id": "c847e7c0-4ca6-4e3f-8c2c-503a96e85200",
   "metadata": {},
   "outputs": [
    {
     "name": "stdout",
     "output_type": "stream",
     "text": [
      "price               0\n",
      "area                0\n",
      "bedrooms            0\n",
      "bathrooms           0\n",
      "stories             0\n",
      "mainroad            0\n",
      "guestroom           0\n",
      "basement            0\n",
      "hotwaterheating     0\n",
      "airconditioning     0\n",
      "parking             0\n",
      "prefarea            0\n",
      "furnishingstatus    0\n",
      "dtype: int64\n",
      "      price  area  bedrooms  bathrooms  stories mainroad guestroom basement  \\\n",
      "0  13300000  7420         4          2        3      yes        no       no   \n",
      "1  12250000  8960         4          4        4      yes        no       no   \n",
      "2  12250000  9960         3          2        2      yes        no      yes   \n",
      "3  12215000  7500         4          2        2      yes        no      yes   \n",
      "4  11410000  7420         4          1        2      yes       yes      yes   \n",
      "\n",
      "  hotwaterheating airconditioning  parking prefarea furnishingstatus  \n",
      "0              no             yes        2      yes        furnished  \n",
      "1              no             yes        3       no        furnished  \n",
      "2              no              no        2      yes   semi-furnished  \n",
      "3              no             yes        3      yes        furnished  \n",
      "4              no             yes        2       no        furnished  \n"
     ]
    }
   ],
   "source": [
    "print(df.isnull().sum())\n",
    "df.fillna(df.select_dtypes(include = 'number').mean(), inplace = True)\n",
    "print(df.head())"
   ]
  },
  {
   "cell_type": "code",
   "execution_count": 34,
   "id": "b9257b75-be0f-424e-8aee-df4b42656d7d",
   "metadata": {},
   "outputs": [
    {
     "name": "stdout",
     "output_type": "stream",
     "text": [
      "      price  area  bedrooms  bathrooms  stories  mainroad  guestroom  \\\n",
      "0  13300000  7420         4          2        3         1          0   \n",
      "1  12250000  8960         4          4        4         1          0   \n",
      "2  12250000  9960         3          2        2         1          0   \n",
      "3  12215000  7500         4          2        2         1          0   \n",
      "4  11410000  7420         4          1        2         1          1   \n",
      "\n",
      "   basement  hotwaterheating  airconditioning  parking  prefarea  \\\n",
      "0         0                0                1        2         1   \n",
      "1         0                0                1        3         0   \n",
      "2         1                0                0        2         1   \n",
      "3         1                0                1        3         1   \n",
      "4         1                0                1        2         0   \n",
      "\n",
      "  furnishingstatus  \n",
      "0        furnished  \n",
      "1        furnished  \n",
      "2   semi-furnished  \n",
      "3        furnished  \n",
      "4        furnished  \n"
     ]
    }
   ],
   "source": [
    "def yes_or_no(value):\n",
    "    return 1 if value == \"yes\" else 0\n",
    "df['mainroad'] = df['mainroad'].apply(yes_or_no)\n",
    "df['guestroom'] = df['guestroom'].apply(yes_or_no)\n",
    "df['basement'] = df['basement'].apply(yes_or_no)\n",
    "df['hotwaterheating'] = df['hotwaterheating'].apply(yes_or_no)\n",
    "df['airconditioning'] = df['airconditioning'].apply(yes_or_no)\n",
    "df['prefarea'] = df['prefarea'].apply(yes_or_no)\n",
    "print(df.head())"
   ]
  },
  {
   "cell_type": "code",
   "execution_count": 35,
   "id": "0bc98e38-116e-4ddf-8f79-926c37d93c68",
   "metadata": {},
   "outputs": [],
   "source": [
    "from sklearn.preprocessing import LabelEncoder\n",
    "lb = LabelEncoder()\n",
    "df['furnishingstatus'] = lb.fit_transform(df['furnishingstatus'])"
   ]
  },
  {
   "cell_type": "code",
   "execution_count": 36,
   "id": "307aea59-081c-4240-b1a1-3ef5873f2e35",
   "metadata": {},
   "outputs": [
    {
     "name": "stdout",
     "output_type": "stream",
     "text": [
      "Dataset after removing outliers: (530, 13)\n"
     ]
    }
   ],
   "source": [
    "Q1 = df['price'].quantile(0.25) \n",
    "Q3 = df['price'].quantile(0.75)  \n",
    "IQR = Q3 - Q1\n",
    "lower_bound = Q1 - 1.5 * IQR\n",
    "upper_bound = Q3 + 1.5 * IQR\n",
    "df = df[(df['price'] >= lower_bound) & (df['price'] <= upper_bound)]\n",
    "print(f\"Dataset after removing outliers: {df.shape}\")"
   ]
  },
  {
   "cell_type": "code",
   "execution_count": 37,
   "id": "73aa0779-5d10-40b0-b601-5519c33337f2",
   "metadata": {},
   "outputs": [],
   "source": [
    "import numpy as np\n",
    "df['price'] = np.log(df['price'])"
   ]
  },
  {
   "cell_type": "code",
   "execution_count": 38,
   "id": "38358570-38e0-4bcf-bff4-4d300bdd6cbc",
   "metadata": {},
   "outputs": [],
   "source": [
    "x = df.drop(columns=['price'])\n",
    "y = df['price']"
   ]
  },
  {
   "cell_type": "code",
   "execution_count": 39,
   "id": "6513b49a-264d-41d8-a7dd-bebe751485dd",
   "metadata": {},
   "outputs": [
    {
     "name": "stdout",
     "output_type": "stream",
     "text": [
      "[[ 0.45260931  1.44774876 -0.56125391 ...  1.58553209 -0.53517078\n",
      "  -0.10686042]\n",
      " [ 0.74197643  1.44774876  1.59428648 ...  0.39862248  1.86856239\n",
      "   1.21025636]\n",
      " [ 1.65830564  0.07755797  1.59428648 ...  1.58553209 -0.53517078\n",
      "  -1.42397719]\n",
      " ...\n",
      " [-0.69521361 -1.29263282 -0.56125391 ... -0.78828714 -0.53517078\n",
      "   1.21025636]\n",
      " [-1.03763137  0.07755797 -0.56125391 ... -0.78828714 -0.53517078\n",
      "  -1.42397719]\n",
      " [-0.58428954  0.07755797 -0.56125391 ... -0.78828714 -0.53517078\n",
      "   1.21025636]]\n"
     ]
    }
   ],
   "source": [
    "from sklearn.preprocessing import StandardScaler\n",
    "scaler = StandardScaler()\n",
    "x_scaled = scaler.fit_transform(x)\n",
    "print(x_scaled)"
   ]
  },
  {
   "cell_type": "code",
   "execution_count": 40,
   "id": "53af562a-9b38-4b3a-b498-d3e4f6052233",
   "metadata": {},
   "outputs": [],
   "source": [
    "from sklearn.model_selection import train_test_split\n",
    "x_train, x_test, y_train, y_test = train_test_split(x_scaled, y, test_size = 0.2, random_state = 42)"
   ]
  },
  {
   "cell_type": "code",
   "execution_count": 41,
   "id": "472e4ad1-0dd8-4899-abce-5b89d8069c30",
   "metadata": {},
   "outputs": [],
   "source": [
    "from sklearn.linear_model import LinearRegression\n",
    "model = LinearRegression()\n",
    "model.fit(x_train, y_train)\n",
    "y_predict = model.predict(x_test)"
   ]
  },
  {
   "cell_type": "code",
   "execution_count": 42,
   "id": "938a16a4-74e0-436f-a2ba-14d577420677",
   "metadata": {},
   "outputs": [
    {
     "name": "stdout",
     "output_type": "stream",
     "text": [
      "Mean Squared Error: 0.060323840314898\n",
      "Mean Absolute Error: 0.18327868974251477\n",
      "R2 Score: 0.6436952709815855\n"
     ]
    }
   ],
   "source": [
    "from sklearn.metrics import mean_squared_error, mean_absolute_error, r2_score\n",
    "mse = mean_squared_error(y_test, y_predict)\n",
    "mae = mean_absolute_error(y_test, y_predict)\n",
    "r2 = r2_score(y_test, y_predict)\n",
    "print('Mean Squared Error:', mse)\n",
    "print('Mean Absolute Error:', mae)\n",
    "print('R2 Score:', r2)"
   ]
  },
  {
   "cell_type": "code",
   "execution_count": 43,
   "id": "cd406448-b9de-44a8-96c6-a39334150a6e",
   "metadata": {},
   "outputs": [
    {
     "data": {
      "image/png": "[encoded data removed]",
      "text/plain": [
       "<Figure size 640x480 with 1 Axes>"
      ]
     },
     "metadata": {},
     "output_type": "display_data"
    }
   ],
   "source": [
    "import matplotlib.pyplot as plt\n",
    "plt.scatter(y_test, y_predict, color='blue', alpha=0.5)\n",
    "plt.xlabel('Actual Prices')\n",
    "plt.ylabel('Predicted Prices')\n",
    "plt.title('Actual vs Predicted')\n",
    "plt.show()"
   ]
  },
  {
   "cell_type": "code",
   "execution_count": 44,
   "id": "12fe0f2b-5078-47ac-b6ec-af6d612dd0ea",
   "metadata": {},
   "outputs": [
    {
     "name": "stdout",
     "output_type": "stream",
     "text": [
      "\n",
      "Actual vs Predicted Prices:\n",
      "Actual: 15.525698373498518, Predicted: 15.581048909803966\n",
      "Actual: 15.048070819142122, Predicted: 15.32824627508689\n",
      "Actual: 15.976532086636533, Predicted: 15.650501180408614\n",
      "Actual: 15.14523456759577, Predicted: 15.123806474910028\n",
      "Actual: 15.181602211766645, Predicted: 15.281271633540145\n",
      "Actual: 15.65606019136176, Predicted: 15.588282247152254\n",
      "Actual: 15.338300663672703, Predicted: 15.240556666877229\n",
      "Actual: 14.739769459487606, Predicted: 14.809624174712809\n",
      "Actual: 14.452087387035824, Predicted: 14.917144045526461\n",
      "Actual: 15.610597817285004, Predicted: 15.538471698519842\n"
     ]
    }
   ],
   "source": [
    "print(\"\\nActual vs Predicted Prices:\")\n",
    "for actual, predicted in zip(y_test.values[:10], y_predict[:10]):\n",
    "    print(f\"Actual: {actual}, Predicted: {predicted}\")"
   ]
  },
  {
   "cell_type": "code",
   "execution_count": 45,
   "id": "1fc6c840-073d-4286-b88d-d54c86fb57ea",
   "metadata": {},
   "outputs": [
    {
     "name": "stdout",
     "output_type": "stream",
     "text": [
      "Cross-Validated R2 Score: -791.73%\n"
     ]
    }
   ],
   "source": [
    "from sklearn.model_selection import cross_val_score\n",
    "cv_scores = cross_val_score(model, x_scaled, y, cv=5, scoring='r2')\n",
    "print(f\"Cross-Validated R2 Score: {cv_scores.mean() * 100:.2f}%\")"
   ]
  },
  {
   "cell_type": "code",
   "execution_count": 47,
   "id": "36953b3e-3add-4b96-a2c5-7d83abfe8796",
   "metadata": {},
   "outputs": [
    {
     "name": "stdout",
     "output_type": "stream",
     "text": [
      "Model Accuracy (R2 Score): 64.37%\n"
     ]
    }
   ],
   "source": [
    "print(f\"Model Accuracy (R2 Score): {r2 * 100:.2f}%\")"
   ]
  },
  {
   "cell_type": "code",
   "execution_count": 48,
   "id": "a023aff1-57f9-40c8-b794-a5515900f072",
   "metadata": {},
   "outputs": [
    {
     "data": {
      "image/png": "[encoded data removed]",
      "text/plain": [
       "<Figure size 640x480 with 1 Axes>"
      ]
     },
     "metadata": {},
     "output_type": "display_data"
    }
   ],
   "source": [
    "import seaborn as sns\n",
    "sns.boxplot(df['price'])\n",
    "plt.show()"
   ]
  },
  {
   "cell_type": "code",
   "execution_count": 51,
   "id": "156b89b7-2480-4b39-a4ff-d811f7fc281b",
   "metadata": {},
   "outputs": [
    {
     "name": "stdout",
     "output_type": "stream",
     "text": [
      "15     9100000.0\n",
      "16     9100000.0\n",
      "17     8960000.0\n",
      "18     8890000.0\n",
      "19     8855000.0\n",
      "         ...    \n",
      "540    1820000.0\n",
      "541    1767150.0\n",
      "542    1750000.0\n",
      "543    1750000.0\n",
      "544    1750000.0\n",
      "Name: price, Length: 530, dtype: float64\n"
     ]
    }
   ],
   "source": [
    "original_price = np.exp(df['price'])\n",
    "print(original_price)  "
   ]
  },
  {
   "cell_type": "code",
   "execution_count": null,
   "id": "078b30f9-9fc8-4061-a99b-e4e4bc98d406",
   "metadata": {},
   "outputs": [],
   "source": []
  }
 ],
 "metadata": {
  "kernelspec": {
   "display_name": "Python 3 (ipykernel)",
   "language": "python",
   "name": "python3"
  },
  "language_info": {
   "codemirror_mode": {
    "name": "ipython",
    "version": 3
   },
   "file_extension": ".py",
   "mimetype": "text/x-python",
   "name": "python",
   "nbconvert_exporter": "python",
   "pygments_lexer": "ipython3",
   "version": "3.12.7"
  }
 },
 "nbformat": 4,
 "nbformat_minor": 5
}
