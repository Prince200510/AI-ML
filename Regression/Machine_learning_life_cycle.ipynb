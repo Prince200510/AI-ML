{
 "cells": [
  {
   "cell_type": "markdown",
   "id": "f4893de4-64b3-4eb9-bbeb-96b9867df510",
   "metadata": {},
   "source": [
    "# Data Collection (Pandas)"
   ]
  },
  {
   "cell_type": "code",
   "execution_count": 13,
   "id": "215d21b4-bde8-40af-bed2-6c68e0ce7957",
   "metadata": {},
   "outputs": [
    {
     "name": "stdout",
     "output_type": "stream",
     "text": [
      "   Roll_No           Name  Result\n",
      "0        1  Prince Maurya    78.0\n",
      "1        2          Harsh    67.0\n",
      "2        3          Lalit     NaN\n",
      "3        4        Krishna    55.0\n",
      "4        5         Nobita    67.0\n"
     ]
    }
   ],
   "source": [
    "import pandas as pd\n",
    "df = pd.read_csv('sample.csv')\n",
    "print(df.head())"
   ]
  },
  {
   "cell_type": "markdown",
   "id": "4fa99e10-fe39-440c-aad5-e2566d702d97",
   "metadata": {},
   "source": [
    "# Data Preparation (📊 pandas, numpy)"
   ]
  },
  {
   "cell_type": "code",
   "execution_count": 15,
   "id": "3252b1bf-554c-43dc-a3cf-b1861694d172",
   "metadata": {},
   "outputs": [
    {
     "name": "stdout",
     "output_type": "stream",
     "text": [
      "Roll_No    0\n",
      "Name       0\n",
      "Result     3\n",
      "dtype: int64\n"
     ]
    }
   ],
   "source": [
    "print(df.isnull().sum())\n",
    "# df.fillna(df.mean(), inplace = True) for the numeric data type\n",
    "df.fillna(df.select_dtypes(include='number').mean(), inplace = True) # for string data we use the select_dtypes"
   ]
  },
  {
   "cell_type": "code",
   "execution_count": 16,
   "id": "d79a8bdd-2b9f-41e5-a450-ad87673520ad",
   "metadata": {},
   "outputs": [
    {
     "name": "stdout",
     "output_type": "stream",
     "text": [
      "   Roll_No           Name     Result\n",
      "0        1  Prince Maurya  78.000000\n",
      "1        2          Harsh  67.000000\n",
      "2        3          Lalit  70.142857\n",
      "3        4        Krishna  55.000000\n",
      "4        5         Nobita  67.000000\n"
     ]
    }
   ],
   "source": [
    "print(df.head())"
   ]
  },
  {
   "cell_type": "markdown",
   "id": "c9b1bf48-9315-4c0e-9a0d-51db77a1afa8",
   "metadata": {},
   "source": [
    "# Data Wrangling(Feature Engineering & Transformation) (pandas, sklearn.preprocessing) "
   ]
  },
  {
   "cell_type": "code",
   "execution_count": 22,
   "id": "f26a9aef-9b56-4460-8181-5a46fbfe58c0",
   "metadata": {},
   "outputs": [
    {
     "name": "stdout",
     "output_type": "stream",
     "text": [
      "   Roll_No  Name     Result\n",
      "0        1     5  78.000000\n",
      "1        2     0  67.000000\n",
      "2        3     3  70.142857\n",
      "3        4     2  55.000000\n",
      "4        5     4  67.000000\n"
     ]
    }
   ],
   "source": [
    "from sklearn.preprocessing import LabelEncoder\n",
    "le = LabelEncoder() # Encode categorical column\n",
    "df['Name'] = le.fit_transform(df['Name'])\n",
    "print(df.head())"
   ]
  },
  {
   "cell_type": "markdown",
   "id": "493a135a-ed13-4734-bdc2-1c9e0e6d528e",
   "metadata": {},
   "source": [
    "# Data Modeling (Splitting the dataset) (sklearn.model_selection)"
   ]
  },
  {
   "cell_type": "code",
   "execution_count": 27,
   "id": "227c2232-4ea6-4ade-923d-9e90652c850c",
   "metadata": {},
   "outputs": [],
   "source": [
    "from sklearn.model_selection import train_test_split\n",
    "x = df.drop('Result', axis = 1) # Features\n",
    "y = df['Result']  # Target variable\n",
    "# Split data (80% training, 20% testing)\n",
    "x_train, x_test, y_train, y_test = train_test_split(x,y, test_size = 0.2, random_state = 42)"
   ]
  },
  {
   "cell_type": "markdown",
   "id": "23108336-e0c2-4357-8c19-9e37bb3ef758",
   "metadata": {},
   "source": [
    "# Model Training (sklearn.linear_model)"
   ]
  },
  {
   "cell_type": "code",
   "execution_count": null,
   "id": "b407552b-5546-433c-84c7-66eebb0cf151",
   "metadata": {},
   "outputs": [],
   "source": []
  }
 ],
 "metadata": {
  "kernelspec": {
   "display_name": "Python 3 (ipykernel)",
   "language": "python",
   "name": "python3"
  },
  "language_info": {
   "codemirror_mode": {
    "name": "ipython",
    "version": 3
   },
   "file_extension": ".py",
   "mimetype": "text/x-python",
   "name": "python",
   "nbconvert_exporter": "python",
   "pygments_lexer": "ipython3",
   "version": "3.12.7"
  }
 },
 "nbformat": 4,
 "nbformat_minor": 5
}
